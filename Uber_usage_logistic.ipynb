{
 "cells": [
  {
   "cell_type": "markdown",
   "metadata": {
    "colab_type": "text",
    "id": "view-in-github"
   },
   "source": [
    "<a href=\"https://colab.research.google.com/github/tungduongbk/tungduong/blob/master/Uber_usage_logistic.ipynb\" target=\"_parent\"><img src=\"https://colab.research.google.com/assets/colab-badge.svg\" alt=\"Open In Colab\"/></a>"
   ]
  },
  {
   "cell_type": "markdown",
   "metadata": {
    "colab_type": "text",
    "id": "FlJV9HQCBGfL"
   },
   "source": [
    "## PROBLEM 4"
   ]
  },
  {
   "cell_type": "code",
   "execution_count": 1,
   "metadata": {
    "colab": {},
    "colab_type": "code",
    "id": "cPkZjPPGBGfP"
   },
   "outputs": [],
   "source": [
    "import pandas as pd\n",
    "import numpy as np"
   ]
  },
  {
   "cell_type": "code",
   "execution_count": 2,
   "metadata": {
    "colab": {},
    "colab_type": "code",
    "id": "Ps6iV7SlBGfb"
   },
   "outputs": [],
   "source": [
    "df = pd.read_csv('uber_usage.csv')"
   ]
  },
  {
   "cell_type": "code",
   "execution_count": 3,
   "metadata": {
    "colab": {},
    "colab_type": "code",
    "id": "kh0FIFJZBGfh"
   },
   "outputs": [],
   "source": [
    "df.drop(['CustomerID'], axis = 1, inplace=True)"
   ]
  },
  {
   "cell_type": "code",
   "execution_count": 4,
   "metadata": {
    "colab": {},
    "colab_type": "code",
    "id": "uiHV0dLvBGfp"
   },
   "outputs": [],
   "source": [
    "df['Gender'] = df.Gender.astype('category')"
   ]
  },
  {
   "cell_type": "code",
   "execution_count": 5,
   "metadata": {
    "colab": {},
    "colab_type": "code",
    "id": "K3l2rXyiBGft",
    "outputId": "3d33706f-4c6c-4986-d4ac-999977ae66fb"
   },
   "outputs": [
    {
     "data": {
      "text/html": [
       "<div>\n",
       "<style scoped>\n",
       "    .dataframe tbody tr th:only-of-type {\n",
       "        vertical-align: middle;\n",
       "    }\n",
       "\n",
       "    .dataframe tbody tr th {\n",
       "        vertical-align: top;\n",
       "    }\n",
       "\n",
       "    .dataframe thead th {\n",
       "        text-align: right;\n",
       "    }\n",
       "</style>\n",
       "<table border=\"1\" class=\"dataframe\">\n",
       "  <thead>\n",
       "    <tr style=\"text-align: right;\">\n",
       "      <th></th>\n",
       "      <th>Gender</th>\n",
       "      <th>Age</th>\n",
       "      <th>AnnualSalary</th>\n",
       "      <th>Gender_encoded</th>\n",
       "      <th>RegularRider</th>\n",
       "    </tr>\n",
       "  </thead>\n",
       "  <tbody>\n",
       "    <tr>\n",
       "      <th>0</th>\n",
       "      <td>Male</td>\n",
       "      <td>19</td>\n",
       "      <td>19000</td>\n",
       "      <td>1</td>\n",
       "      <td>0</td>\n",
       "    </tr>\n",
       "    <tr>\n",
       "      <th>1</th>\n",
       "      <td>Male</td>\n",
       "      <td>35</td>\n",
       "      <td>20000</td>\n",
       "      <td>1</td>\n",
       "      <td>0</td>\n",
       "    </tr>\n",
       "    <tr>\n",
       "      <th>2</th>\n",
       "      <td>Female</td>\n",
       "      <td>26</td>\n",
       "      <td>43000</td>\n",
       "      <td>0</td>\n",
       "      <td>0</td>\n",
       "    </tr>\n",
       "    <tr>\n",
       "      <th>3</th>\n",
       "      <td>Female</td>\n",
       "      <td>27</td>\n",
       "      <td>57000</td>\n",
       "      <td>0</td>\n",
       "      <td>0</td>\n",
       "    </tr>\n",
       "    <tr>\n",
       "      <th>4</th>\n",
       "      <td>Male</td>\n",
       "      <td>19</td>\n",
       "      <td>76000</td>\n",
       "      <td>1</td>\n",
       "      <td>0</td>\n",
       "    </tr>\n",
       "  </tbody>\n",
       "</table>\n",
       "</div>"
      ],
      "text/plain": [
       "   Gender  Age  AnnualSalary  Gender_encoded  RegularRider\n",
       "0    Male   19         19000               1             0\n",
       "1    Male   35         20000               1             0\n",
       "2  Female   26         43000               0             0\n",
       "3  Female   27         57000               0             0\n",
       "4    Male   19         76000               1             0"
      ]
     },
     "execution_count": 5,
     "metadata": {},
     "output_type": "execute_result"
    }
   ],
   "source": [
    "df['Gender_encoded'] = df.Gender.cat.codes\n",
    "df = df[['Gender', 'Age', 'AnnualSalary', 'Gender_encoded', 'RegularRider']]\n",
    "df.head()"
   ]
  },
  {
   "cell_type": "code",
   "execution_count": 6,
   "metadata": {
    "colab": {},
    "colab_type": "code",
    "id": "bvGjsHLDBGf2"
   },
   "outputs": [],
   "source": [
    "data = df.values"
   ]
  },
  {
   "cell_type": "code",
   "execution_count": 7,
   "metadata": {
    "colab": {},
    "colab_type": "code",
    "id": "Ko-53uyZBGf9"
   },
   "outputs": [],
   "source": [
    "X = data[:, 1:4]\n",
    "Y = data[:, 4]"
   ]
  },
  {
   "cell_type": "markdown",
   "metadata": {
    "colab_type": "text",
    "id": "F0jiEiD9BGgE"
   },
   "source": [
    "### a ) Split the dataset to training set and test set using the ratio training set : test set = 7 : 3. The utility model selection.train test split can be used to split the dataset"
   ]
  },
  {
   "cell_type": "code",
   "execution_count": 8,
   "metadata": {
    "colab": {},
    "colab_type": "code",
    "id": "3oDt1n12BGgG"
   },
   "outputs": [],
   "source": [
    "from sklearn.model_selection import train_test_split"
   ]
  },
  {
   "cell_type": "code",
   "execution_count": 9,
   "metadata": {
    "colab": {},
    "colab_type": "code",
    "id": "ZYMWE5UmBGgQ"
   },
   "outputs": [],
   "source": [
    "X_train, X_test, Y_train, Y_test = train_test_split(X, Y, test_size = 0.3, random_state = 0)\n",
    "Y_train, Y_test = Y_train.astype('int'), Y_test.astype('int')"
   ]
  },
  {
   "cell_type": "markdown",
   "metadata": {
    "colab_type": "text",
    "id": "HKoykNRfBGgY"
   },
   "source": [
    "### b) Use scikit-learn’s StandardScaler, fit and transform each feature (age, annual salary) into a standard normal distribution. Then use the same parameters of the distributions to transform the test set."
   ]
  },
  {
   "cell_type": "code",
   "execution_count": 10,
   "metadata": {
    "colab": {},
    "colab_type": "code",
    "id": "skqjRrOVBGgZ"
   },
   "outputs": [],
   "source": [
    "from sklearn.preprocessing import StandardScaler\n",
    "import warnings\n",
    "warnings.filterwarnings(\"ignore\")"
   ]
  },
  {
   "cell_type": "code",
   "execution_count": 11,
   "metadata": {
    "colab": {},
    "colab_type": "code",
    "id": "M2zjV0UgBGgf"
   },
   "outputs": [],
   "source": [
    "scaler = StandardScaler()\n",
    "scaler.fit(X_train)\n",
    "\n",
    "X_train_scale = scaler.transform(X_train)"
   ]
  },
  {
   "cell_type": "code",
   "execution_count": 12,
   "metadata": {
    "colab": {},
    "colab_type": "code",
    "id": "CLE2k95XBGgj"
   },
   "outputs": [],
   "source": [
    "X_test_scale = scaler.transform(X_test)"
   ]
  },
  {
   "cell_type": "markdown",
   "metadata": {
    "colab_type": "text",
    "id": "WriZVHwCBGgo"
   },
   "source": [
    "### c) Use scikit-learn’s Logistic Regression model linear model.LogisticRegression to train a model on the training set and apply it to the test set."
   ]
  },
  {
   "cell_type": "code",
   "execution_count": 13,
   "metadata": {
    "colab": {},
    "colab_type": "code",
    "id": "DMRw7Eb4BGgp"
   },
   "outputs": [],
   "source": [
    "from sklearn.linear_model import LogisticRegression"
   ]
  },
  {
   "cell_type": "code",
   "execution_count": 14,
   "metadata": {
    "colab": {},
    "colab_type": "code",
    "id": "Fd_aW-lyBGgx",
    "outputId": "705d4491-96b0-4616-dd0e-a67d9ca69bfa"
   },
   "outputs": [
    {
     "data": {
      "text/plain": [
       "LogisticRegression(C=1.0, class_weight=None, dual=False, fit_intercept=True,\n",
       "          intercept_scaling=1, max_iter=100, multi_class='warn',\n",
       "          n_jobs=None, penalty='l2', random_state=None, solver='warn',\n",
       "          tol=0.0001, verbose=0, warm_start=False)"
      ]
     },
     "execution_count": 14,
     "metadata": {},
     "output_type": "execute_result"
    }
   ],
   "source": [
    "model = LogisticRegression(max_iter=100)\n",
    "model.fit(X_train_scale, Y_train)"
   ]
  },
  {
   "cell_type": "code",
   "execution_count": 15,
   "metadata": {
    "colab": {},
    "colab_type": "code",
    "id": "tbkBN2d3BGg1"
   },
   "outputs": [],
   "source": [
    "predict = model.predict(X_test_scale)\n",
    "predict_proba = model.predict_proba(X_test_scale)[:,1]"
   ]
  },
  {
   "cell_type": "markdown",
   "metadata": {
    "colab_type": "text",
    "id": "mNm2_9mLBGg9"
   },
   "source": [
    "### d) Calculate the TP rate, FP rate, FN rate, Precision, Recall, F1 score, and AUC on the training set and test set. Compare the AUC on the training set and test set."
   ]
  },
  {
   "cell_type": "code",
   "execution_count": 16,
   "metadata": {
    "colab": {},
    "colab_type": "code",
    "id": "ynPJBacGBGg-"
   },
   "outputs": [],
   "source": [
    "from sklearn.metrics import roc_curve, auc, confusion_matrix, precision_recall_fscore_support"
   ]
  },
  {
   "cell_type": "markdown",
   "metadata": {
    "colab_type": "text",
    "id": "nNrh6jYyBGhG"
   },
   "source": [
    "#### Calculate TPR, FPR, Precision, Recall, F1 score, AUC for test set using sklearn metrics"
   ]
  },
  {
   "cell_type": "code",
   "execution_count": 17,
   "metadata": {
    "colab": {},
    "colab_type": "code",
    "id": "BZRsX_JgBGhH",
    "outputId": "180524d3-f07f-49b1-9ee6-98d69e481e16"
   },
   "outputs": [
    {
     "name": "stdout",
     "output_type": "stream",
     "text": [
      "[0.         0.         0.         0.01265823 0.01265823 0.02531646\n",
      " 0.02531646 0.03797468 0.03797468 0.05063291 0.05063291 0.10126582\n",
      " 0.10126582 0.12658228 0.12658228 0.13924051 0.13924051 0.18987342\n",
      " 0.18987342 0.32911392 0.35443038 0.51898734 0.51898734 1.        ]\n",
      "[0.         0.02439024 0.14634146 0.14634146 0.48780488 0.48780488\n",
      " 0.56097561 0.56097561 0.65853659 0.65853659 0.80487805 0.80487805\n",
      " 0.87804878 0.87804878 0.92682927 0.92682927 0.95121951 0.95121951\n",
      " 0.97560976 0.97560976 0.97560976 0.97560976 1.         1.        ]\n"
     ]
    }
   ],
   "source": [
    "fpr, tpr, thresholds = roc_curve(Y_test, predict_proba) "
   ]
  },
  {
   "cell_type": "code",
   "execution_count": 31,
   "metadata": {
    "colab": {},
    "colab_type": "code",
    "id": "MfHiEQ1hBGhT",
    "outputId": "3ccb30b8-8991-49b3-dc7e-595e879768c6"
   },
   "outputs": [
    {
     "name": "stdout",
     "output_type": "stream",
     "text": [
      "AUC on test set = 0.9484408768138315\n"
     ]
    }
   ],
   "source": [
    "auc_test = auc(fpr, tpr)\n",
    "print('AUC on test set = %s'%auc_test)"
   ]
  },
  {
   "cell_type": "code",
   "execution_count": 19,
   "metadata": {
    "colab": {},
    "colab_type": "code",
    "id": "wQnVTt_bBGhd",
    "outputId": "cf679465-e1c2-4ce9-8287-b6bf56ec7611"
   },
   "outputs": [
    {
     "data": {
      "text/plain": [
       "array([[74,  5],\n",
       "       [ 8, 33]])"
      ]
     },
     "execution_count": 19,
     "metadata": {},
     "output_type": "execute_result"
    }
   ],
   "source": [
    "conf_matrix = confusion_matrix(Y_test, predict)\n",
    "conf_matrix"
   ]
  },
  {
   "cell_type": "code",
   "execution_count": 34,
   "metadata": {},
   "outputs": [
    {
     "name": "stdout",
     "output_type": "stream",
     "text": [
      "TPR on test set = 0.9367088607594937\n",
      "FPR on test set = 0.1951219512195122\n",
      "FNR on test set = 0.06329113924050633\n"
     ]
    }
   ],
   "source": [
    "def calculateTPRate(conf_matrix):\n",
    "    TPR = conf_matrix[0][0]/(conf_matrix[0][1]+conf_matrix[0][0])\n",
    "    FPR = conf_matrix[1][0]/(conf_matrix[1][0]+conf_matrix[1][1])\n",
    "    FNR = conf_matrix[0][1]/(conf_matrix[0][1]+conf_matrix[0][0])\n",
    "    return TPR, FPR, FNR\n",
    "    \n",
    "TPR, FPR, FNR = calculateTPRate(conf_matrix)\n",
    "\n",
    "print('TPR on test set = {0}\\nFPR on test set = {1}\\nFNR on test set = {2}'\n",
    "      .format(TPR, FPR, FNR))"
   ]
  },
  {
   "cell_type": "code",
   "execution_count": 30,
   "metadata": {
    "colab": {},
    "colab_type": "code",
    "id": "LxRlGK2XBGhm",
    "outputId": "a5620029-d6b6-4624-f0dc-90653bc578fc"
   },
   "outputs": [
    {
     "name": "stdout",
     "output_type": "stream",
     "text": [
      "Precision on test set = 0.8854300385109115\n",
      "Recall on test set = 0.8707934547699907\n",
      "F1 Score on test set = 0.8773488481798883\n"
     ]
    }
   ],
   "source": [
    "(precision_test, recall_test, fscore_test, _) = precision_recall_fscore_support(Y_test, predict, average='macro')\n",
    "\n",
    "print('Precision on test set = {0}\\nRecall on test set = {1}\\nF1 Score on test set = {2}'\n",
    "      .format(precision_test, recall_test, fscore_test))"
   ]
  },
  {
   "cell_type": "markdown",
   "metadata": {
    "colab_type": "text",
    "id": "fdEHI_cLBGhw"
   },
   "source": [
    "#### Calculate TPR, FPR, Precision, Recall, F1 score, AUC for training set "
   ]
  },
  {
   "cell_type": "code",
   "execution_count": 40,
   "metadata": {
    "colab": {},
    "colab_type": "code",
    "id": "Q5GAmbTdBGhx",
    "outputId": "c604f112-433b-469c-e75f-e90661b32cf4"
   },
   "outputs": [],
   "source": [
    "predict_train = model.predict(X_train_scale)\n",
    "predict_proba_train = model.predict_proba(X_train_scale)[:,1]\n",
    "fpr_train, tpr_train, thresholds_train = roc_curve(Y_train, predict_proba_train)"
   ]
  },
  {
   "cell_type": "code",
   "execution_count": 43,
   "metadata": {
    "colab": {},
    "colab_type": "code",
    "id": "_FClgZloBGh2",
    "outputId": "126292cc-d48f-4287-88e2-b78f8623cd66"
   },
   "outputs": [
    {
     "name": "stdout",
     "output_type": "stream",
     "text": [
      "AUC on training set = 0.9163361974003085\n"
     ]
    }
   ],
   "source": [
    "auc_train = auc(fpr_train, tpr_train)\n",
    "print('AUC on training set = %s'%auc_train)"
   ]
  },
  {
   "cell_type": "code",
   "execution_count": 44,
   "metadata": {},
   "outputs": [
    {
     "data": {
      "text/plain": [
       "array([[163,  15],\n",
       "       [ 31,  71]])"
      ]
     },
     "execution_count": 44,
     "metadata": {},
     "output_type": "execute_result"
    }
   ],
   "source": [
    "conf_matrix_train = confusion_matrix(Y_train, predict_train)\n",
    "conf_matrix_train"
   ]
  },
  {
   "cell_type": "code",
   "execution_count": 46,
   "metadata": {},
   "outputs": [
    {
     "name": "stdout",
     "output_type": "stream",
     "text": [
      "TPR on training set = 0.9157303370786517\n",
      "FPR on training set = 0.30392156862745096\n",
      "FNR on training set = 0.08426966292134831\n"
     ]
    }
   ],
   "source": [
    "TPR, FPR, FNR = calculateTPRate(conf_matrix_train)\n",
    "print('TPR on training set = {0}\\nFPR on training set = {1}\\nFNR on training set = {2}'\n",
    "      .format(TPR, FPR, FNR))"
   ]
  },
  {
   "cell_type": "code",
   "execution_count": 65,
   "metadata": {},
   "outputs": [
    {
     "name": "stdout",
     "output_type": "stream",
     "text": [
      "Precision on training set = 0.8328937904579238\n",
      "Recall on training set = 0.8059043842256004\n",
      "F1 Score on training set = 0.8158316174788378\n"
     ]
    }
   ],
   "source": [
    "(precision_train, recall_train, fscore_train, _) = precision_recall_fscore_support(Y_train, predict_train, average='macro')\n",
    "\n",
    "print('Precision on training set = {0}\\nRecall on training set = {1}\\nF1 Score on training set = {2}'\n",
    "      .format(precision_train, recall_train, fscore_train))"
   ]
  },
  {
   "cell_type": "markdown",
   "metadata": {},
   "source": [
    "### FROM THE RESULTS ON TRAINING SET AND TEST SET: AUC ON TEST SET > AUC ON TRAINING SET"
   ]
  },
  {
   "cell_type": "markdown",
   "metadata": {
    "colab_type": "text",
    "id": "23MFa5czBGiA"
   },
   "source": [
    "## e) Visualize the feature values and labels of the training set using a scatter plot. Visualize the feature values and decisions on another scatter plot."
   ]
  },
  {
   "cell_type": "markdown",
   "metadata": {},
   "source": [
    "### Visualize training set with scatter plot"
   ]
  },
  {
   "cell_type": "code",
   "execution_count": 58,
   "metadata": {},
   "outputs": [],
   "source": [
    "Y_train = pd.DataFrame(Y_train)\n",
    "Y_train.columns = ['RegularRider']"
   ]
  },
  {
   "cell_type": "code",
   "execution_count": 62,
   "metadata": {
    "colab": {},
    "colab_type": "code",
    "id": "y-25_4_EBGiA",
    "outputId": "58ccd188-aaf6-4401-e264-5410dbc68836"
   },
   "outputs": [],
   "source": [
    "df_train = pd.DataFrame(X_train)\n",
    "df_train.columns = ['Age', 'AnnualSalary', 'Gender_encoded']\n",
    "df_train = pd.concat([df_train, Y_train], axis = 1)"
   ]
  },
  {
   "cell_type": "code",
   "execution_count": 64,
   "metadata": {
    "colab": {},
    "colab_type": "code",
    "id": "cIuE7MlcBGiH",
    "outputId": "d876be43-1287-42b4-b20e-7bac391a0c5c"
   },
   "outputs": [
    {
     "data": {
      "image/png": "[encoded data removed]",
      "text/plain": [
       "<Figure size 360x360 with 1 Axes>"
      ]
     },
     "metadata": {
      "needs_background": "light"
     },
     "output_type": "display_data"
    }
   ],
   "source": [
    "%matplotlib inline\n",
    "import matplotlib.pyplot as plt\n",
    "import seaborn as sns\n",
    " \n",
    "# Use the 'hue' argument to provide a factor variable\n",
    "sns.lmplot( x=\"Age\", y=\"AnnualSalary\", data= df_train, fit_reg=False, hue='RegularRider', legend=False)\n",
    " \n",
    "# Move the legend to an empty part of the plot\n",
    "plt.legend(loc='upper left')\n",
    " \n",
    "plt.show()\n"
   ]
  },
  {
   "cell_type": "markdown",
   "metadata": {
    "colab": {},
    "colab_type": "code",
    "id": "2zDkrdV0BGiM"
   },
   "source": [
    "### Visualize the feature values and decisions on another scatter plot"
   ]
  },
  {
   "cell_type": "code",
   "execution_count": 66,
   "metadata": {},
   "outputs": [],
   "source": [
    "predicted = pd.DataFrame(predict)\n",
    "predicted.columns = ['RegularRider']"
   ]
  },
  {
   "cell_type": "code",
   "execution_count": 67,
   "metadata": {},
   "outputs": [],
   "source": [
    "df_test = pd.DataFrame(X_test)\n",
    "df_test.columns = ['Age', 'AnnualSalary', 'Gender_encoded']\n",
    "df_test = pd.concat([df_test, predicted], axis = 1)"
   ]
  },
  {
   "cell_type": "code",
   "execution_count": 68,
   "metadata": {},
   "outputs": [
    {
     "data": {
      "image/png": "[encoded data removed]",
      "text/plain": [
       "<Figure size 360x360 with 1 Axes>"
      ]
     },
     "metadata": {
      "needs_background": "light"
     },
     "output_type": "display_data"
    }
   ],
   "source": [
    "sns.lmplot( x=\"Age\", y=\"AnnualSalary\", data= df_test, fit_reg=False, hue='RegularRider', legend=False)\n",
    " \n",
    "# Move the legend to an empty part of the plot\n",
    "plt.legend(loc='upper left')\n",
    " \n",
    "plt.show()"
   ]
  },
  {
   "cell_type": "code",
   "execution_count": null,
   "metadata": {},
   "outputs": [],
   "source": []
  }
 ],
 "metadata": {
  "colab": {
   "collapsed_sections": [],
   "include_colab_link": true,
   "name": "Copy of Untitled.ipynb",
   "provenance": [],
   "version": "0.3.2"
  },
  "kernelspec": {
   "display_name": "Python 3",
   "language": "python",
   "name": "python3"
  },
  "language_info": {
   "codemirror_mode": {
    "name": "ipython",
    "version": 3
   },
   "file_extension": ".py",
   "mimetype": "text/x-python",
   "name": "python",
   "nbconvert_exporter": "python",
   "pygments_lexer": "ipython3",
   "version": "3.7.0"
  }
 },
 "nbformat": 4,
 "nbformat_minor": 1
}
