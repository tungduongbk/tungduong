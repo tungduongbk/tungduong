{
  "nbformat": 4,
  "nbformat_minor": 0,
  "metadata": {
    "colab": {
      "name": "Copy of Untitled.ipynb",
      "version": "0.3.2",
      "provenance": [],
      "collapsed_sections": [],
      "include_colab_link": true
    },
    "kernelspec": {
      "display_name": "Python 3",
      "language": "python",
      "name": "python3"
    }
  },
  "cells": [
    {
      "cell_type": "markdown",
      "metadata": {
        "id": "view-in-github",
        "colab_type": "text"
      },
      "source": [
        "<a href=\"https://colab.research.google.com/github/tungduongbk/tungduong/blob/master/Uber_usage_logistic.ipynb\" target=\"_parent\"><img src=\"https://colab.research.google.com/assets/colab-badge.svg\" alt=\"Open In Colab\"/></a>"
      ]
    },
    {
      "metadata": {
        "id": "FlJV9HQCBGfL",
        "colab_type": "text"
      },
      "cell_type": "markdown",
      "source": [
        "## PROBLEM 4"
      ]
    },
    {
      "metadata": {
        "id": "cPkZjPPGBGfP",
        "colab_type": "code",
        "colab": {}
      },
      "cell_type": "code",
      "source": [
        "import pandas as pd\n",
        "import numpy as np"
      ],
      "execution_count": 0,
      "outputs": []
    },
    {
      "metadata": {
        "id": "Ps6iV7SlBGfb",
        "colab_type": "code",
        "colab": {}
      },
      "cell_type": "code",
      "source": [
        "df = pd.read_csv('uber_usage.csv')"
      ],
      "execution_count": 0,
      "outputs": []
    },
    {
      "metadata": {
        "id": "kh0FIFJZBGfh",
        "colab_type": "code",
        "colab": {}
      },
      "cell_type": "code",
      "source": [
        "df.drop(['CustomerID'], axis = 1, inplace=True)"
      ],
      "execution_count": 0,
      "outputs": []
    },
    {
      "metadata": {
        "id": "uiHV0dLvBGfp",
        "colab_type": "code",
        "colab": {}
      },
      "cell_type": "code",
      "source": [
        "df['Gender'] = df.Gender.astype('category')"
      ],
      "execution_count": 0,
      "outputs": []
    },
    {
      "metadata": {
        "id": "K3l2rXyiBGft",
        "colab_type": "code",
        "outputId": "3d33706f-4c6c-4986-d4ac-999977ae66fb",
        "colab": {}
      },
      "cell_type": "code",
      "source": [
        "df['Gender_encoded'] = df.Gender.cat.codes\n",
        "df = df[['Gender', 'Age', 'AnnualSalary', 'Gender_encoded', 'RegularRider']]\n",
        "df.head()"
      ],
      "execution_count": 0,
      "outputs": [
        {
          "output_type": "execute_result",
          "data": {
            "text/html": [
              "<div>\n",
              "<style scoped>\n",
              "    .dataframe tbody tr th:only-of-type {\n",
              "        vertical-align: middle;\n",
              "    }\n",
              "\n",
              "    .dataframe tbody tr th {\n",
              "        vertical-align: top;\n",
              "    }\n",
              "\n",
              "    .dataframe thead th {\n",
              "        text-align: right;\n",
              "    }\n",
              "</style>\n",
              "<table border=\"1\" class=\"dataframe\">\n",
              "  <thead>\n",
              "    <tr style=\"text-align: right;\">\n",
              "      <th></th>\n",
              "      <th>Gender</th>\n",
              "      <th>Age</th>\n",
              "      <th>AnnualSalary</th>\n",
              "      <th>Gender_encoded</th>\n",
              "      <th>RegularRider</th>\n",
              "    </tr>\n",
              "  </thead>\n",
              "  <tbody>\n",
              "    <tr>\n",
              "      <th>0</th>\n",
              "      <td>Male</td>\n",
              "      <td>19</td>\n",
              "      <td>19000</td>\n",
              "      <td>1</td>\n",
              "      <td>0</td>\n",
              "    </tr>\n",
              "    <tr>\n",
              "      <th>1</th>\n",
              "      <td>Male</td>\n",
              "      <td>35</td>\n",
              "      <td>20000</td>\n",
              "      <td>1</td>\n",
              "      <td>0</td>\n",
              "    </tr>\n",
              "    <tr>\n",
              "      <th>2</th>\n",
              "      <td>Female</td>\n",
              "      <td>26</td>\n",
              "      <td>43000</td>\n",
              "      <td>0</td>\n",
              "      <td>0</td>\n",
              "    </tr>\n",
              "    <tr>\n",
              "      <th>3</th>\n",
              "      <td>Female</td>\n",
              "      <td>27</td>\n",
              "      <td>57000</td>\n",
              "      <td>0</td>\n",
              "      <td>0</td>\n",
              "    </tr>\n",
              "    <tr>\n",
              "      <th>4</th>\n",
              "      <td>Male</td>\n",
              "      <td>19</td>\n",
              "      <td>76000</td>\n",
              "      <td>1</td>\n",
              "      <td>0</td>\n",
              "    </tr>\n",
              "  </tbody>\n",
              "</table>\n",
              "</div>"
            ],
            "text/plain": [
              "   Gender  Age  AnnualSalary  Gender_encoded  RegularRider\n",
              "0    Male   19         19000               1             0\n",
              "1    Male   35         20000               1             0\n",
              "2  Female   26         43000               0             0\n",
              "3  Female   27         57000               0             0\n",
              "4    Male   19         76000               1             0"
            ]
          },
          "metadata": {
            "tags": []
          },
          "execution_count": 5
        }
      ]
    },
    {
      "metadata": {
        "id": "bvGjsHLDBGf2",
        "colab_type": "code",
        "colab": {}
      },
      "cell_type": "code",
      "source": [
        "data = df.values"
      ],
      "execution_count": 0,
      "outputs": []
    },
    {
      "metadata": {
        "id": "Ko-53uyZBGf9",
        "colab_type": "code",
        "colab": {}
      },
      "cell_type": "code",
      "source": [
        "X = data[:, 1:4]\n",
        "Y = data[:, 4]"
      ],
      "execution_count": 0,
      "outputs": []
    },
    {
      "metadata": {
        "id": "F0jiEiD9BGgE",
        "colab_type": "text"
      },
      "cell_type": "markdown",
      "source": [
        "### a ) Split the dataset to training set and test set using the ratio training set : test set = 7 : 3. The utility model selection.train test split can be used to split the dataset"
      ]
    },
    {
      "metadata": {
        "id": "3oDt1n12BGgG",
        "colab_type": "code",
        "colab": {}
      },
      "cell_type": "code",
      "source": [
        "from sklearn.model_selection import train_test_split"
      ],
      "execution_count": 0,
      "outputs": []
    },
    {
      "metadata": {
        "id": "ZYMWE5UmBGgQ",
        "colab_type": "code",
        "colab": {}
      },
      "cell_type": "code",
      "source": [
        "X_train, X_test, Y_train, Y_test = train_test_split(X, Y, test_size = 0.3, random_state = 0)\n",
        "Y_train, Y_test = Y_train.astype('int'), Y_test.astype('int')"
      ],
      "execution_count": 0,
      "outputs": []
    },
    {
      "metadata": {
        "id": "HKoykNRfBGgY",
        "colab_type": "text"
      },
      "cell_type": "markdown",
      "source": [
        "### b) Use scikit-learn’s StandardScaler, fit and transform each feature (age, annual salary) into a standard normal distribution. Then use the same parameters of the distributions to transform the test set."
      ]
    },
    {
      "metadata": {
        "id": "skqjRrOVBGgZ",
        "colab_type": "code",
        "colab": {}
      },
      "cell_type": "code",
      "source": [
        "from sklearn.preprocessing import StandardScaler\n",
        "import warnings\n",
        "warnings.filterwarnings(\"ignore\")"
      ],
      "execution_count": 0,
      "outputs": []
    },
    {
      "metadata": {
        "id": "M2zjV0UgBGgf",
        "colab_type": "code",
        "colab": {}
      },
      "cell_type": "code",
      "source": [
        "scaler = StandardScaler()\n",
        "scaler.fit(X_train)\n",
        "\n",
        "X_train_scale = scaler.transform(X_train)"
      ],
      "execution_count": 0,
      "outputs": []
    },
    {
      "metadata": {
        "id": "CLE2k95XBGgj",
        "colab_type": "code",
        "colab": {}
      },
      "cell_type": "code",
      "source": [
        "X_test_scale = scaler.transform(X_test)"
      ],
      "execution_count": 0,
      "outputs": []
    },
    {
      "metadata": {
        "id": "WriZVHwCBGgo",
        "colab_type": "text"
      },
      "cell_type": "markdown",
      "source": [
        "### c) Use scikit-learn’s Logistic Regression model linear model.LogisticRegression to train a model on the training set and apply it to the test set."
      ]
    },
    {
      "metadata": {
        "id": "DMRw7Eb4BGgp",
        "colab_type": "code",
        "colab": {}
      },
      "cell_type": "code",
      "source": [
        "from sklearn.linear_model import LogisticRegression"
      ],
      "execution_count": 0,
      "outputs": []
    },
    {
      "metadata": {
        "id": "Fd_aW-lyBGgx",
        "colab_type": "code",
        "outputId": "705d4491-96b0-4616-dd0e-a67d9ca69bfa",
        "colab": {}
      },
      "cell_type": "code",
      "source": [
        "model = LogisticRegression(max_iter=100)\n",
        "model.fit(X_train_scale, Y_train)"
      ],
      "execution_count": 0,
      "outputs": [
        {
          "output_type": "execute_result",
          "data": {
            "text/plain": [
              "LogisticRegression(C=1.0, class_weight=None, dual=False, fit_intercept=True,\n",
              "          intercept_scaling=1, max_iter=100, multi_class='warn',\n",
              "          n_jobs=None, penalty='l2', random_state=None, solver='warn',\n",
              "          tol=0.0001, verbose=0, warm_start=False)"
            ]
          },
          "metadata": {
            "tags": []
          },
          "execution_count": 14
        }
      ]
    },
    {
      "metadata": {
        "id": "tbkBN2d3BGg1",
        "colab_type": "code",
        "colab": {}
      },
      "cell_type": "code",
      "source": [
        "predict = model.predict(X_test_scale)\n",
        "predict_proba = model.predict_proba(X_test_scale)[:,1]"
      ],
      "execution_count": 0,
      "outputs": []
    },
    {
      "metadata": {
        "id": "mNm2_9mLBGg9",
        "colab_type": "text"
      },
      "cell_type": "markdown",
      "source": [
        "### d) Calculate the TP rate, FP rate, FN rate, Precision, Recall, F1 score, and AUC on the training set and test set. Compare the AUC on the training set and test set."
      ]
    },
    {
      "metadata": {
        "id": "ynPJBacGBGg-",
        "colab_type": "code",
        "colab": {}
      },
      "cell_type": "code",
      "source": [
        "from sklearn.metrics import roc_curve, auc, confusion_matrix, precision_recall_fscore_support"
      ],
      "execution_count": 0,
      "outputs": []
    },
    {
      "metadata": {
        "id": "nNrh6jYyBGhG",
        "colab_type": "text"
      },
      "cell_type": "markdown",
      "source": [
        "#### Calculate TPR, FPR, Precision, Recall, F1 score, AUC for test set using sklearn metrics"
      ]
    },
    {
      "metadata": {
        "id": "BZRsX_JgBGhH",
        "colab_type": "code",
        "outputId": "180524d3-f07f-49b1-9ee6-98d69e481e16",
        "colab": {}
      },
      "cell_type": "code",
      "source": [
        "fpr, tpr, thresholds = roc_curve(Y_test, predict_proba) \n",
        "print(fpr)\n",
        "print(tpr)"
      ],
      "execution_count": 0,
      "outputs": [
        {
          "output_type": "stream",
          "text": [
            "[0.         0.         0.         0.01265823 0.01265823 0.02531646\n",
            " 0.02531646 0.03797468 0.03797468 0.05063291 0.05063291 0.10126582\n",
            " 0.10126582 0.12658228 0.12658228 0.13924051 0.13924051 0.18987342\n",
            " 0.18987342 0.32911392 0.35443038 0.51898734 0.51898734 1.        ]\n",
            "[0.         0.02439024 0.14634146 0.14634146 0.48780488 0.48780488\n",
            " 0.56097561 0.56097561 0.65853659 0.65853659 0.80487805 0.80487805\n",
            " 0.87804878 0.87804878 0.92682927 0.92682927 0.95121951 0.95121951\n",
            " 0.97560976 0.97560976 0.97560976 0.97560976 1.         1.        ]\n"
          ],
          "name": "stdout"
        }
      ]
    },
    {
      "metadata": {
        "id": "MfHiEQ1hBGhT",
        "colab_type": "code",
        "outputId": "3ccb30b8-8991-49b3-dc7e-595e879768c6",
        "colab": {}
      },
      "cell_type": "code",
      "source": [
        "roc_auc = auc(fpr, tpr)\n",
        "roc_auc"
      ],
      "execution_count": 0,
      "outputs": [
        {
          "output_type": "execute_result",
          "data": {
            "text/plain": [
              "0.9484408768138315"
            ]
          },
          "metadata": {
            "tags": []
          },
          "execution_count": 18
        }
      ]
    },
    {
      "metadata": {
        "id": "wQnVTt_bBGhd",
        "colab_type": "code",
        "outputId": "cf679465-e1c2-4ce9-8287-b6bf56ec7611",
        "colab": {}
      },
      "cell_type": "code",
      "source": [
        "conf_matrix = confusion_matrix(Y_test, predict)\n",
        "conf_matrix"
      ],
      "execution_count": 0,
      "outputs": [
        {
          "output_type": "execute_result",
          "data": {
            "text/plain": [
              "array([[74,  5],\n",
              "       [ 8, 33]])"
            ]
          },
          "metadata": {
            "tags": []
          },
          "execution_count": 23
        }
      ]
    },
    {
      "metadata": {
        "id": "LxRlGK2XBGhm",
        "colab_type": "code",
        "outputId": "a5620029-d6b6-4624-f0dc-90653bc578fc",
        "colab": {}
      },
      "cell_type": "code",
      "source": [
        "precision_recall_fscore_support(Y_test, predict, average='macro')"
      ],
      "execution_count": 0,
      "outputs": [
        {
          "output_type": "execute_result",
          "data": {
            "text/plain": [
              "(0.8854300385109115, 0.8707934547699907, 0.8773488481798883, None)"
            ]
          },
          "metadata": {
            "tags": []
          },
          "execution_count": 27
        }
      ]
    },
    {
      "metadata": {
        "id": "fdEHI_cLBGhw",
        "colab_type": "text"
      },
      "cell_type": "markdown",
      "source": [
        "#### Calculate TPR, FPR, Precision, Recall, F1 score, AUC for training set using sklearn metrics"
      ]
    },
    {
      "metadata": {
        "id": "Q5GAmbTdBGhx",
        "colab_type": "code",
        "outputId": "c604f112-433b-469c-e75f-e90661b32cf4",
        "colab": {}
      },
      "cell_type": "code",
      "source": [
        "predict_on_train = model.predict_proba(X_train_scale)[:,1]\n",
        "fpr_train, tpr_train, thresholds_train = roc_curve(Y_train, predict_on_train)\n",
        "print(fpr_train)\n",
        "print(tpr_train)"
      ],
      "execution_count": 0,
      "outputs": [
        {
          "output_type": "stream",
          "text": [
            "[0.         0.         0.         0.00561798 0.00561798 0.01123596\n",
            " 0.01123596 0.01685393 0.01685393 0.02247191 0.02247191 0.02808989\n",
            " 0.02808989 0.03370787 0.03370787 0.03932584 0.03932584 0.04494382\n",
            " 0.04494382 0.0505618  0.0505618  0.05617978 0.05617978 0.06179775\n",
            " 0.06179775 0.06741573 0.06741573 0.07303371 0.07303371 0.07865169\n",
            " 0.07865169 0.08988764 0.08988764 0.09550562 0.09550562 0.1011236\n",
            " 0.11235955 0.11797753 0.11797753 0.12359551 0.12359551 0.12921348\n",
            " 0.12921348 0.14606742 0.14606742 0.15168539 0.15168539 0.16292135\n",
            " 0.16292135 0.18539326 0.18539326 0.19101124 0.19101124 0.19662921\n",
            " 0.19662921 0.21910112 0.21910112 0.23595506 0.23595506 0.24719101\n",
            " 0.25280899 0.26966292 0.26966292 0.30898876 0.30898876 0.32022472\n",
            " 0.32022472 0.34831461 0.34831461 0.36516854 0.36516854 0.73033708\n",
            " 0.74157303 0.83707865 0.84831461 1.        ]\n",
            "[0.         0.00980392 0.11764706 0.11764706 0.12745098 0.12745098\n",
            " 0.15686275 0.15686275 0.26470588 0.26470588 0.35294118 0.35294118\n",
            " 0.40196078 0.40196078 0.41176471 0.41176471 0.49019608 0.49019608\n",
            " 0.52941176 0.52941176 0.53921569 0.53921569 0.54901961 0.54901961\n",
            " 0.61764706 0.61764706 0.64705882 0.64705882 0.68627451 0.68627451\n",
            " 0.69607843 0.69607843 0.71568627 0.71568627 0.7254902  0.7254902\n",
            " 0.7254902  0.7254902  0.73529412 0.73529412 0.75490196 0.75490196\n",
            " 0.76470588 0.76470588 0.79411765 0.79411765 0.83333333 0.83333333\n",
            " 0.85294118 0.85294118 0.8627451  0.8627451  0.87254902 0.87254902\n",
            " 0.88235294 0.88235294 0.89215686 0.89215686 0.90196078 0.90196078\n",
            " 0.90196078 0.90196078 0.92156863 0.92156863 0.96078431 0.96078431\n",
            " 0.97058824 0.97058824 0.99019608 0.99019608 1.         1.\n",
            " 1.         1.         1.         1.        ]\n"
          ],
          "name": "stdout"
        }
      ]
    },
    {
      "metadata": {
        "id": "_FClgZloBGh2",
        "colab_type": "code",
        "outputId": "126292cc-d48f-4287-88e2-b78f8623cd66",
        "colab": {}
      },
      "cell_type": "code",
      "source": [
        "roc_auc_train = auc(fpr_train, tpr_train)\n",
        "roc_auc_train"
      ],
      "execution_count": 0,
      "outputs": [
        {
          "output_type": "execute_result",
          "data": {
            "text/plain": [
              "0.9163361974003085"
            ]
          },
          "metadata": {
            "tags": []
          },
          "execution_count": 20
        }
      ]
    },
    {
      "metadata": {
        "id": "23MFa5czBGiA",
        "colab_type": "text"
      },
      "cell_type": "markdown",
      "source": [
        "## Visualization "
      ]
    },
    {
      "metadata": {
        "id": "y-25_4_EBGiA",
        "colab_type": "code",
        "outputId": "58ccd188-aaf6-4401-e264-5410dbc68836",
        "colab": {}
      },
      "cell_type": "code",
      "source": [
        "df_train = pd.DataFrame(X_train)\n",
        "df_train.columns = ['Age', 'AnnualSalary', 'Gender_encoded']\n",
        "df_train.merge(pd.DataFrame(Y), axis = 0)\n",
        "df_train"
      ],
      "execution_count": 0,
      "outputs": [
        {
          "output_type": "error",
          "ename": "TypeError",
          "evalue": "merge() got an unexpected keyword argument 'axis'",
          "traceback": [
            "\u001b[0;31m---------------------------------------------------------------------------\u001b[0m",
            "\u001b[0;31mTypeError\u001b[0m                                 Traceback (most recent call last)",
            "\u001b[0;32m<ipython-input-50-d9eadeea0f80>\u001b[0m in \u001b[0;36m<module>\u001b[0;34m\u001b[0m\n\u001b[1;32m      1\u001b[0m \u001b[0mdf_train\u001b[0m \u001b[0;34m=\u001b[0m \u001b[0mpd\u001b[0m\u001b[0;34m.\u001b[0m\u001b[0mDataFrame\u001b[0m\u001b[0;34m(\u001b[0m\u001b[0mX_train\u001b[0m\u001b[0;34m)\u001b[0m\u001b[0;34m\u001b[0m\u001b[0m\n\u001b[1;32m      2\u001b[0m \u001b[0mdf_train\u001b[0m\u001b[0;34m.\u001b[0m\u001b[0mcolumns\u001b[0m \u001b[0;34m=\u001b[0m \u001b[0;34m[\u001b[0m\u001b[0;34m'Age'\u001b[0m\u001b[0;34m,\u001b[0m \u001b[0;34m'AnnualSalary'\u001b[0m\u001b[0;34m,\u001b[0m \u001b[0;34m'Gender_encoded'\u001b[0m\u001b[0;34m]\u001b[0m\u001b[0;34m\u001b[0m\u001b[0m\n\u001b[0;32m----> 3\u001b[0;31m \u001b[0mdf_train\u001b[0m\u001b[0;34m.\u001b[0m\u001b[0mmerge\u001b[0m\u001b[0;34m(\u001b[0m\u001b[0mpd\u001b[0m\u001b[0;34m.\u001b[0m\u001b[0mDataFrame\u001b[0m\u001b[0;34m(\u001b[0m\u001b[0mY\u001b[0m\u001b[0;34m)\u001b[0m\u001b[0;34m,\u001b[0m \u001b[0maxis\u001b[0m \u001b[0;34m=\u001b[0m \u001b[0;36m0\u001b[0m\u001b[0;34m)\u001b[0m\u001b[0;34m\u001b[0m\u001b[0m\n\u001b[0m\u001b[1;32m      4\u001b[0m \u001b[0mdf_train\u001b[0m\u001b[0;34m\u001b[0m\u001b[0m\n",
            "\u001b[0;31mTypeError\u001b[0m: merge() got an unexpected keyword argument 'axis'"
          ]
        }
      ]
    },
    {
      "metadata": {
        "id": "cIuE7MlcBGiH",
        "colab_type": "code",
        "outputId": "d876be43-1287-42b4-b20e-7bac391a0c5c",
        "colab": {}
      },
      "cell_type": "code",
      "source": [
        "%matplotlib inline\n",
        "import matplotlib.pyplot as plt\n",
        "import seaborn as sns\n",
        " \n",
        "# Use the 'hue' argument to provide a factor variable\n",
        "sns.lmplot( x=\"Age\", y=\"AnnualSalary\", data= pd.DataFrame(X_train)['Age', fit_reg=False, hue='RegularRider', legend=False)\n",
        " \n",
        "# Move the legend to an empty part of the plot\n",
        "plt.legend(loc='top right')\n",
        " \n",
        "plt.show()\n"
      ],
      "execution_count": 0,
      "outputs": [
        {
          "output_type": "display_data",
          "data": {
            "image/png": "[encoded data removed]",
            "text/plain": [
              "<Figure size 360x360 with 1 Axes>"
            ]
          },
          "metadata": {
            "tags": [],
            "needs_background": "light"
          }
        }
      ]
    },
    {
      "metadata": {
        "id": "2zDkrdV0BGiM",
        "colab_type": "code",
        "colab": {}
      },
      "cell_type": "code",
      "source": [
        ""
      ],
      "execution_count": 0,
      "outputs": []
    }
  ]
}