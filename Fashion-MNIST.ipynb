{
 "cells": [
  {
   "cell_type": "code",
   "execution_count": 15,
   "metadata": {
    "_cell_guid": "b1076dfc-b9ad-4769-8c92-a6c4dae69d19",
    "_uuid": "8f2839f25d086af736a60e9eeb907d3b93b6e0e5",
    "scrolled": true
   },
   "outputs": [],
   "source": [
    "import os # processing file path\n",
    "import numpy as np \n",
    "import pandas as pd \n",
    "import matplotlib.pyplot as plt # data visualization\n",
    "from sklearn.model_selection import train_test_split\n",
    "from keras.utils import np_utils\n",
    "from sklearn.metrics import accuracy_score"
   ]
  },
  {
   "cell_type": "code",
   "execution_count": 2,
   "metadata": {},
   "outputs": [],
   "source": [
    "def load_mnist(path, kind='train'):\n",
    "    import gzip\n",
    "\n",
    "    \"\"\"Load MNIST data from `path`\"\"\"\n",
    "    labels_path = os.path.join(path,\n",
    "                               '%s-labels-idx1-ubyte.gz'\n",
    "                               % kind)\n",
    "    images_path = os.path.join(path,\n",
    "                               '%s-images-idx3-ubyte.gz'\n",
    "                               % kind)\n",
    "\n",
    "    with gzip.open(labels_path, 'rb') as lbpath:\n",
    "        labels = np.frombuffer(lbpath.read(), dtype=np.uint8,\n",
    "                               offset=8)\n",
    "\n",
    "    with gzip.open(images_path, 'rb') as imgpath:\n",
    "        images = np.frombuffer(imgpath.read(), dtype=np.uint8,\n",
    "                               offset=16).reshape(len(labels), 784)\n",
    "\n",
    "    return images, labels"
   ]
  },
  {
   "cell_type": "code",
   "execution_count": 3,
   "metadata": {
    "_uuid": "41218c14cdfb16f121c1640f7996bb361048836d"
   },
   "outputs": [],
   "source": [
    "# Load the data\n",
    "X_train, y_train = load_mnist('/home/hoangloc/fashion-mnist/data/fashion', kind='train')\n",
    "X_test, y_test = load_mnist('/home/hoangloc/fashion-mnist/data/fashion', kind='t10k')\n",
    "m_train = X_train.shape[0]\n",
    "m_test = X_test.shape[0]"
   ]
  },
  {
   "cell_type": "code",
   "execution_count": 4,
   "metadata": {
    "_uuid": "e5dc172684d46547d8f0f37d3bf7a6bd4ef9dbcb",
    "scrolled": false
   },
   "outputs": [
    {
     "name": "stdout",
     "output_type": "stream",
     "text": [
      "X_train shape: (60000, 784)\n",
      "y_train shape: (60000,)\n",
      "X_test shape: (10000, 784)\n",
      "y_test shape: (10000,)\n",
      "Number of training examples: m_train = 60000\n",
      "Number of testing examples: m_test = 10000\n"
     ]
    }
   ],
   "source": [
    "print(\"X_train shape: \" + str(X_train.shape))\n",
    "print(\"y_train shape: \" + str(y_train.shape))\n",
    "print(\"X_test shape: \" + str(X_test.shape))\n",
    "print(\"y_test shape: \" + str(y_test.shape))\n",
    "print (\"Number of training examples: m_train = \" + str(m_train))\n",
    "print (\"Number of testing examples: m_test = \" + str(m_test))"
   ]
  },
  {
   "cell_type": "code",
   "execution_count": 5,
   "metadata": {
    "_uuid": "efeff328c6964df7b6099c9e65f4533ab115dd52",
    "scrolled": true
   },
   "outputs": [
    {
     "data": {
      "image/png": "[encoded data removed]",
      "text/plain": [
       "<Figure size 432x288 with 9 Axes>"
      ]
     },
     "metadata": {
      "needs_background": "light"
     },
     "output_type": "display_data"
    }
   ],
   "source": [
    "# random check with nine training examples\n",
    "np.random.seed(0);\n",
    "indices = list(np.random.randint(m_train,size=9))\n",
    "for i in range(9):\n",
    "    plt.subplot(3,3,i+1)\n",
    "    plt.imshow(X_train[indices[i]].reshape(28,28), cmap='gray', interpolation='none')\n",
    "    plt.title(\"Index {} Class {}\".format(indices[i], y_train[indices[i]]))\n",
    "    plt.tight_layout()"
   ]
  },
  {
   "cell_type": "markdown",
   "metadata": {
    "_uuid": "4457d2213139ebf65c0eff199d283da772a20245"
   },
   "source": [
    "| 0           | 1       | 2        | 3     | 4    | 5     | 6     | 7       | 8    | 9          |\n",
    "| ----------- | ------- | -------- | ----- | ---- | ----- | ----- | ------- | ---- | ---------- |\n",
    "| T-shirt/top | Trouser | Pullover | Dress | Coat | Sanda | Shirt | Sneaker | Bag  | Ankle boot |\n"
   ]
  },
  {
   "cell_type": "markdown",
   "metadata": {
    "_uuid": "1d086359125a89b45ad799fc995f7e7e9ce8a89a"
   },
   "source": [
    "## Preprocessing"
   ]
  },
  {
   "cell_type": "markdown",
   "metadata": {
    "_uuid": "4eb827211d3bb33324ce58c39f2f4ece6b2db6d5"
   },
   "source": [
    "# Subsample the data"
   ]
  },
  {
   "cell_type": "code",
   "execution_count": 6,
   "metadata": {},
   "outputs": [
    {
     "data": {
      "text/plain": [
       "(54000, 784)"
      ]
     },
     "execution_count": 6,
     "metadata": {},
     "output_type": "execute_result"
    }
   ],
   "source": [
    "X_train1, X_val, Y_train1, Y_val = train_test_split(X_train, y_train, test_size = 0.1, random_state = 0)\n",
    "Y_train1 = np_utils.to_categorical(Y_train1, 10)\n",
    "Y_val = np_utils.to_categorical(Y_val, 10)\n",
    "X_train1.shape"
   ]
  },
  {
   "cell_type": "raw",
   "metadata": {
    "_uuid": "b4caadd9efd9826fd28587c274ecad6961d15d5b"
   },
   "source": [
    "# Reshape data to rows\n",
    "X_train1 = X_train1.reshape(m_train, -1)\n",
    "X_val = X_val.reshape(m_validation, -1)\n",
    "X_test = X_test.reshape(m_test, -1)"
   ]
  },
  {
   "cell_type": "code",
   "execution_count": 7,
   "metadata": {
    "_uuid": "ab872e974c2bece15dad190371a78268f517c087"
   },
   "outputs": [
    {
     "name": "stdout",
     "output_type": "stream",
     "text": [
      "X_train shape: (54000, 784)\n",
      "y_train shape: (54000, 10)\n",
      "X_val shape: (6000, 784)\n",
      "y_val shape: (6000, 10)\n",
      "X_test shape: (10000, 784)\n",
      "y_test shape: (10000,)\n"
     ]
    }
   ],
   "source": [
    "print(\"X_train shape: \" + str(X_train1.shape))\n",
    "print(\"y_train shape: \" + str(Y_train1.shape))\n",
    "print(\"X_val shape: \" + str(X_val.shape))\n",
    "print(\"y_val shape: \" + str(Y_val.shape))\n",
    "print(\"X_test shape: \" + str(X_test.shape))\n",
    "print(\"y_test shape: \" + str(y_test.shape))"
   ]
  },
  {
   "cell_type": "code",
   "execution_count": 21,
   "metadata": {},
   "outputs": [],
   "source": [
    "def compute_cost(A2, Y):\n",
    "    \n",
    "    m = Y.shape[0] # number of example\n",
    "\n",
    "    logprobs = np.multiply(np.log(A2),Y) + np.multiply((1-Y), np.log(1-A2))\n",
    "    cost = - np.sum(logprobs)/m\n",
    "    \n",
    "    cost = np.squeeze(cost)     \n",
    "    assert(isinstance(cost, float))\n",
    "    \n",
    "    return cost"
   ]
  },
  {
   "cell_type": "code",
   "execution_count": 9,
   "metadata": {},
   "outputs": [],
   "source": [
    "def softmax(V):\n",
    "    e_V = np.exp(V - np.max(V, axis = 0, keepdims = True))\n",
    "    Z = e_V / e_V.sum(axis = 0)\n",
    "    return Z"
   ]
  },
  {
   "cell_type": "markdown",
   "metadata": {
    "_uuid": "7c4802b4a024d30f949f7859511c93d5af383d95"
   },
   "source": [
    "## Implacement TwoLayerNet"
   ]
  },
  {
   "cell_type": "code",
   "execution_count": 29,
   "metadata": {},
   "outputs": [
    {
     "name": "stdout",
     "output_type": "stream",
     "text": [
      "5\n",
      "0\n",
      "0\n",
      "0\n",
      "0\n",
      "0\n",
      "0\n",
      "0\n",
      "0\n",
      "0\n",
      "0\n",
      "0\n",
      "0\n",
      "0\n",
      "0\n",
      "0\n",
      "0\n",
      "0\n",
      "0\n",
      "0\n"
     ]
    }
   ],
   "source": [
    "input_size =X_train1.shape[1]\n",
    "hidden_size = 100 # size of hidden layer\n",
    "output_size = 10\n",
    "# initialize parameters randomly\n",
    "W1 = 0.01*np.random.randn(input_size, hidden_size)\n",
    "b1 = np.zeros((hidden_size, 1))\n",
    "W2 = 0.01*np.random.randn(hidden_size, output_size)\n",
    "b2 = np.zeros((output_size, 1))\n",
    "N = X_train1.shape[0]\n",
    "eta = 1 # learning rate\n",
    "for i in range(20):\n",
    "    ## Feedforward\n",
    "    Z1 = np.dot(X_train1,W1) + b1.T\n",
    "    A1 = np.maximum(Z1, 0)\n",
    "    Z2 = np.dot(A1,W2) + b2.T\n",
    "    Yhat = softmax(Z2)\n",
    "    print(Yhat[1].argmax())\n",
    "    # backpropagation\n",
    "    E2 = (Yhat - Y_train1 )/N\n",
    "    dW2 = np.dot(A1.T,E2)\n",
    "    db2 = np.sum(E2.T, axis = 1, keepdims = True)\n",
    "    E1 = np.dot(E2,W2.T)\n",
    "    E1[Z1 <= 0] = 0 # gradient of ReLU\n",
    "    dW1 = np.dot(X_train1.T,E1)\n",
    "    db1 = np.sum(E1.T, axis = 1, keepdims = True)\n",
    "    # Gradient Descent update\n",
    "    W1 += -eta*dW1\n",
    "    b1 += -eta*db1\n",
    "    W2 += -eta*dW2\n",
    "    b2 += -eta*db2"
   ]
  }
 ],
 "metadata": {
  "kernelspec": {
   "display_name": "Python 3",
   "language": "python",
   "name": "python3"
  },
  "language_info": {
   "codemirror_mode": {
    "name": "ipython",
    "version": 3
   },
   "file_extension": ".py",
   "mimetype": "text/x-python",
   "name": "python",
   "nbconvert_exporter": "python",
   "pygments_lexer": "ipython3",
   "version": "3.7.0"
  }
 },
 "nbformat": 4,
 "nbformat_minor": 1
}
