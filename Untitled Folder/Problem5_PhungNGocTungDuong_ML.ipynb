{
 "cells": [
  {
   "cell_type": "markdown",
   "metadata": {
    "colab_type": "text",
    "id": "view-in-github"
   },
   "source": [
    "<a href=\"https://colab.research.google.com/github/tungduongbk/tungduong/blob/master/Uber_usage_logistic.ipynb\" target=\"_parent\"><img src=\"https://colab.research.google.com/assets/colab-badge.svg\" alt=\"Open In Colab\"/></a>"
   ]
  },
  {
   "cell_type": "markdown",
   "metadata": {
    "colab_type": "text",
    "id": "FlJV9HQCBGfL"
   },
   "source": [
    "## PROBLEM 5"
   ]
  },
  {
   "cell_type": "code",
   "execution_count": 1,
   "metadata": {
    "colab": {},
    "colab_type": "code",
    "id": "cPkZjPPGBGfP"
   },
   "outputs": [],
   "source": [
    "import pandas as pd\n",
    "import numpy as np"
   ]
  },
  {
   "cell_type": "code",
   "execution_count": 2,
   "metadata": {
    "colab": {},
    "colab_type": "code",
    "id": "Ps6iV7SlBGfb"
   },
   "outputs": [],
   "source": [
    "df = pd.read_csv('uber_usage.csv')"
   ]
  },
  {
   "cell_type": "code",
   "execution_count": 3,
   "metadata": {
    "colab": {},
    "colab_type": "code",
    "id": "kh0FIFJZBGfh"
   },
   "outputs": [],
   "source": [
    "df.drop(['CustomerID'], axis = 1, inplace=True)"
   ]
  },
  {
   "cell_type": "code",
   "execution_count": 4,
   "metadata": {
    "colab": {},
    "colab_type": "code",
    "id": "uiHV0dLvBGfp"
   },
   "outputs": [],
   "source": [
    "df['Gender'] = df.Gender.astype('category')"
   ]
  },
  {
   "cell_type": "code",
   "execution_count": 5,
   "metadata": {
    "colab": {},
    "colab_type": "code",
    "id": "K3l2rXyiBGft",
    "outputId": "3d33706f-4c6c-4986-d4ac-999977ae66fb"
   },
   "outputs": [
    {
     "data": {
      "text/html": [
       "<div>\n",
       "<style scoped>\n",
       "    .dataframe tbody tr th:only-of-type {\n",
       "        vertical-align: middle;\n",
       "    }\n",
       "\n",
       "    .dataframe tbody tr th {\n",
       "        vertical-align: top;\n",
       "    }\n",
       "\n",
       "    .dataframe thead th {\n",
       "        text-align: right;\n",
       "    }\n",
       "</style>\n",
       "<table border=\"1\" class=\"dataframe\">\n",
       "  <thead>\n",
       "    <tr style=\"text-align: right;\">\n",
       "      <th></th>\n",
       "      <th>Gender</th>\n",
       "      <th>Age</th>\n",
       "      <th>AnnualSalary</th>\n",
       "      <th>Gender_encoded</th>\n",
       "      <th>RegularRider</th>\n",
       "    </tr>\n",
       "  </thead>\n",
       "  <tbody>\n",
       "    <tr>\n",
       "      <th>0</th>\n",
       "      <td>Male</td>\n",
       "      <td>19</td>\n",
       "      <td>19000</td>\n",
       "      <td>1</td>\n",
       "      <td>0</td>\n",
       "    </tr>\n",
       "    <tr>\n",
       "      <th>1</th>\n",
       "      <td>Male</td>\n",
       "      <td>35</td>\n",
       "      <td>20000</td>\n",
       "      <td>1</td>\n",
       "      <td>0</td>\n",
       "    </tr>\n",
       "    <tr>\n",
       "      <th>2</th>\n",
       "      <td>Female</td>\n",
       "      <td>26</td>\n",
       "      <td>43000</td>\n",
       "      <td>0</td>\n",
       "      <td>0</td>\n",
       "    </tr>\n",
       "    <tr>\n",
       "      <th>3</th>\n",
       "      <td>Female</td>\n",
       "      <td>27</td>\n",
       "      <td>57000</td>\n",
       "      <td>0</td>\n",
       "      <td>0</td>\n",
       "    </tr>\n",
       "    <tr>\n",
       "      <th>4</th>\n",
       "      <td>Male</td>\n",
       "      <td>19</td>\n",
       "      <td>76000</td>\n",
       "      <td>1</td>\n",
       "      <td>0</td>\n",
       "    </tr>\n",
       "  </tbody>\n",
       "</table>\n",
       "</div>"
      ],
      "text/plain": [
       "   Gender  Age  AnnualSalary  Gender_encoded  RegularRider\n",
       "0    Male   19         19000               1             0\n",
       "1    Male   35         20000               1             0\n",
       "2  Female   26         43000               0             0\n",
       "3  Female   27         57000               0             0\n",
       "4    Male   19         76000               1             0"
      ]
     },
     "execution_count": 5,
     "metadata": {},
     "output_type": "execute_result"
    }
   ],
   "source": [
    "df['Gender_encoded'] = df.Gender.cat.codes\n",
    "df = df[['Gender', 'Age', 'AnnualSalary', 'Gender_encoded', 'RegularRider']]\n",
    "df.head()"
   ]
  },
  {
   "cell_type": "code",
   "execution_count": 6,
   "metadata": {
    "colab": {},
    "colab_type": "code",
    "id": "bvGjsHLDBGf2"
   },
   "outputs": [],
   "source": [
    "data = df.values"
   ]
  },
  {
   "cell_type": "code",
   "execution_count": 7,
   "metadata": {
    "colab": {},
    "colab_type": "code",
    "id": "Ko-53uyZBGf9"
   },
   "outputs": [],
   "source": [
    "X = data[:, 1:3]\n",
    "Y = data[:, 4]"
   ]
  },
  {
   "cell_type": "markdown",
   "metadata": {
    "colab_type": "text",
    "id": "F0jiEiD9BGgE"
   },
   "source": [
    "### a ) Split the dataset to training set and test set using the ratio training set : test set = 7 : 3. The utility model selection.train test split can be used to split the dataset"
   ]
  },
  {
   "cell_type": "code",
   "execution_count": 8,
   "metadata": {
    "colab": {},
    "colab_type": "code",
    "id": "3oDt1n12BGgG"
   },
   "outputs": [],
   "source": [
    "from sklearn.model_selection import train_test_split"
   ]
  },
  {
   "cell_type": "code",
   "execution_count": 9,
   "metadata": {
    "colab": {},
    "colab_type": "code",
    "id": "ZYMWE5UmBGgQ"
   },
   "outputs": [],
   "source": [
    "X_train, X_test, Y_train, Y_test = train_test_split(X, Y, test_size = 0.3, random_state = 0)\n",
    "Y_train, Y_test = Y_train.astype('int'), Y_test.astype('int')"
   ]
  },
  {
   "cell_type": "markdown",
   "metadata": {
    "colab_type": "text",
    "id": "HKoykNRfBGgY"
   },
   "source": [
    "### b) Use scikit-learn’s StandardScaler, fit and transform each feature (age, annual salary) into a standard normal distribution. Then use the same parameters of the distributions to transform the test set."
   ]
  },
  {
   "cell_type": "code",
   "execution_count": 10,
   "metadata": {
    "colab": {},
    "colab_type": "code",
    "id": "skqjRrOVBGgZ"
   },
   "outputs": [],
   "source": [
    "from sklearn.preprocessing import StandardScaler\n",
    "import warnings\n",
    "warnings.filterwarnings(\"ignore\")"
   ]
  },
  {
   "cell_type": "code",
   "execution_count": 11,
   "metadata": {
    "colab": {},
    "colab_type": "code",
    "id": "M2zjV0UgBGgf"
   },
   "outputs": [],
   "source": [
    "scaler = StandardScaler()\n",
    "scaler.fit(X_train)\n",
    "\n",
    "X_train_scale = scaler.transform(X_train)"
   ]
  },
  {
   "cell_type": "code",
   "execution_count": 12,
   "metadata": {
    "colab": {},
    "colab_type": "code",
    "id": "CLE2k95XBGgj"
   },
   "outputs": [],
   "source": [
    "X_test_scale = scaler.transform(X_test)"
   ]
  },
  {
   "cell_type": "markdown",
   "metadata": {
    "colab_type": "text",
    "id": "WriZVHwCBGgo"
   },
   "source": [
    "### c) Use scikit-learn’s SVM model to train a model on the training set and apply it to the test set."
   ]
  },
  {
   "cell_type": "code",
   "execution_count": 13,
   "metadata": {
    "colab": {},
    "colab_type": "code",
    "id": "DMRw7Eb4BGgp"
   },
   "outputs": [],
   "source": [
    "from sklearn.svm import SVC"
   ]
  },
  {
   "cell_type": "code",
   "execution_count": 14,
   "metadata": {
    "colab": {},
    "colab_type": "code",
    "id": "Fd_aW-lyBGgx",
    "outputId": "705d4491-96b0-4616-dd0e-a67d9ca69bfa"
   },
   "outputs": [
    {
     "data": {
      "text/plain": [
       "SVC(C=100000.0, cache_size=200, class_weight=None, coef0=0.0,\n",
       "  decision_function_shape='ovr', degree=3, gamma='auto_deprecated',\n",
       "  kernel='linear', max_iter=-1, probability=True, random_state=None,\n",
       "  shrinking=True, tol=0.001, verbose=False)"
      ]
     },
     "execution_count": 14,
     "metadata": {},
     "output_type": "execute_result"
    }
   ],
   "source": [
    "model = SVC(kernel='linear', probability=True, C = 1e5)\n",
    "model.fit(X_train_scale, Y_train)"
   ]
  },
  {
   "cell_type": "code",
   "execution_count": 15,
   "metadata": {
    "colab": {},
    "colab_type": "code",
    "id": "tbkBN2d3BGg1"
   },
   "outputs": [],
   "source": [
    "Y_predict = model.predict(X_test_scale)\n",
    "predict_proba = model.predict_proba(X_test_scale)[:,1]"
   ]
  },
  {
   "cell_type": "markdown",
   "metadata": {
    "colab_type": "text",
    "id": "mNm2_9mLBGg9"
   },
   "source": [
    "### d) Calculate the TP rate, FP rate, FN rate, Precision, Recall, F1 score, and AUC on the training set and test set. Compare the AUC on the training set and test set."
   ]
  },
  {
   "cell_type": "code",
   "execution_count": 16,
   "metadata": {
    "colab": {},
    "colab_type": "code",
    "id": "ynPJBacGBGg-"
   },
   "outputs": [],
   "source": [
    "from sklearn.metrics import roc_curve, auc, confusion_matrix, precision_recall_fscore_support"
   ]
  },
  {
   "cell_type": "markdown",
   "metadata": {
    "colab_type": "text",
    "id": "nNrh6jYyBGhG"
   },
   "source": [
    "#### Calculate TPR, FPR, Precision, Recall, F1 score, AUC for test set using sklearn metrics"
   ]
  },
  {
   "cell_type": "code",
   "execution_count": 17,
   "metadata": {
    "colab": {},
    "colab_type": "code",
    "id": "BZRsX_JgBGhH",
    "outputId": "180524d3-f07f-49b1-9ee6-98d69e481e16"
   },
   "outputs": [],
   "source": [
    "fpr, tpr, thresholds = roc_curve(Y_test, predict_proba) "
   ]
  },
  {
   "cell_type": "code",
   "execution_count": 18,
   "metadata": {
    "colab": {},
    "colab_type": "code",
    "id": "MfHiEQ1hBGhT",
    "outputId": "3ccb30b8-8991-49b3-dc7e-595e879768c6"
   },
   "outputs": [
    {
     "name": "stdout",
     "output_type": "stream",
     "text": [
      "AUC on test set = 0.9481321395492436\n"
     ]
    }
   ],
   "source": [
    "auc_test = auc(fpr, tpr)\n",
    "print('AUC on test set = %s'%auc_test)"
   ]
  },
  {
   "cell_type": "code",
   "execution_count": 19,
   "metadata": {
    "colab": {},
    "colab_type": "code",
    "id": "wQnVTt_bBGhd",
    "outputId": "cf679465-e1c2-4ce9-8287-b6bf56ec7611"
   },
   "outputs": [
    {
     "data": {
      "text/plain": [
       "array([[75,  4],\n",
       "       [12, 29]])"
      ]
     },
     "execution_count": 19,
     "metadata": {},
     "output_type": "execute_result"
    }
   ],
   "source": [
    "conf_matrix = confusion_matrix(Y_test, Y_predict)\n",
    "conf_matrix"
   ]
  },
  {
   "cell_type": "code",
   "execution_count": 20,
   "metadata": {},
   "outputs": [
    {
     "name": "stdout",
     "output_type": "stream",
     "text": [
      "TPR on test set = 0.9493670886075949\n",
      "FPR on test set = 0.2926829268292683\n",
      "FNR on test set = 0.05063291139240506\n"
     ]
    }
   ],
   "source": [
    "def calculateTPRate(conf_matrix):\n",
    "    TPR = conf_matrix[0][0]/(conf_matrix[0][1]+conf_matrix[0][0])\n",
    "    FPR = conf_matrix[1][0]/(conf_matrix[1][0]+conf_matrix[1][1])\n",
    "    FNR = conf_matrix[0][1]/(conf_matrix[0][1]+conf_matrix[0][0])\n",
    "    return TPR, FPR, FNR\n",
    "    \n",
    "TPR, FPR, FNR = calculateTPRate(conf_matrix)\n",
    "\n",
    "print('TPR on test set = {0}\\nFPR on test set = {1}\\nFNR on test set = {2}'\n",
    "      .format(TPR, FPR, FNR))"
   ]
  },
  {
   "cell_type": "code",
   "execution_count": 21,
   "metadata": {},
   "outputs": [
    {
     "name": "stdout",
     "output_type": "stream",
     "text": [
      "              precision    recall  f1-score   support\n",
      "\n",
      "           0       0.86      0.95      0.90        79\n",
      "           1       0.88      0.71      0.78        41\n",
      "\n",
      "   micro avg       0.87      0.87      0.87       120\n",
      "   macro avg       0.87      0.83      0.84       120\n",
      "weighted avg       0.87      0.87      0.86       120\n",
      "\n"
     ]
    }
   ],
   "source": [
    "## we can use classification report from sklearn to calculate precision, recall, f1 score...\n",
    "from sklearn.metrics import classification_report\n",
    "\n",
    "print(classification_report(Y_test, Y_predict))"
   ]
  },
  {
   "cell_type": "code",
   "execution_count": 22,
   "metadata": {
    "colab": {},
    "colab_type": "code",
    "id": "LxRlGK2XBGhm",
    "outputId": "a5620029-d6b6-4624-f0dc-90653bc578fc"
   },
   "outputs": [
    {
     "name": "stdout",
     "output_type": "stream",
     "text": [
      "Precision on test set = 0.87042842215256\n",
      "Recall on test set = 0.8283420808891633\n",
      "F1 Score on test set = 0.8436991208075546\n"
     ]
    }
   ],
   "source": [
    "(precision_test, recall_test, fscore_test, _) = precision_recall_fscore_support(Y_test, Y_predict, average='macro')\n",
    "\n",
    "print('Precision on test set = {0}\\nRecall on test set = {1}\\nF1 Score on test set = {2}'\n",
    "      .format(precision_test, recall_test, fscore_test))"
   ]
  },
  {
   "cell_type": "markdown",
   "metadata": {
    "colab_type": "text",
    "id": "fdEHI_cLBGhw"
   },
   "source": [
    "#### Calculate TPR, FPR, Precision, Recall, F1 score, AUC for training set "
   ]
  },
  {
   "cell_type": "code",
   "execution_count": 23,
   "metadata": {
    "colab": {},
    "colab_type": "code",
    "id": "Q5GAmbTdBGhx",
    "outputId": "c604f112-433b-469c-e75f-e90661b32cf4"
   },
   "outputs": [],
   "source": [
    "Y_predict_train = model.predict(X_train_scale)\n",
    "Y_predict_proba_train = model.predict_proba(X_train_scale)[:,1]\n",
    "fpr_train, tpr_train, thresholds_train = roc_curve(Y_train, Y_predict_proba_train)"
   ]
  },
  {
   "cell_type": "code",
   "execution_count": 24,
   "metadata": {
    "colab": {},
    "colab_type": "code",
    "id": "_FClgZloBGh2",
    "outputId": "126292cc-d48f-4287-88e2-b78f8623cd66"
   },
   "outputs": [
    {
     "name": "stdout",
     "output_type": "stream",
     "text": [
      "AUC on training set = 0.9151244767569949\n"
     ]
    }
   ],
   "source": [
    "auc_train = auc(fpr_train, tpr_train)\n",
    "print('AUC on training set = %s'%auc_train)"
   ]
  },
  {
   "cell_type": "code",
   "execution_count": 25,
   "metadata": {},
   "outputs": [
    {
     "data": {
      "text/plain": [
       "array([[165,  13],\n",
       "       [ 35,  67]])"
      ]
     },
     "execution_count": 25,
     "metadata": {},
     "output_type": "execute_result"
    }
   ],
   "source": [
    "conf_matrix_train = confusion_matrix(Y_train, Y_predict_train)\n",
    "conf_matrix_train"
   ]
  },
  {
   "cell_type": "code",
   "execution_count": 26,
   "metadata": {},
   "outputs": [
    {
     "name": "stdout",
     "output_type": "stream",
     "text": [
      "TPR on training set = 0.9269662921348315\n",
      "FPR on training set = 0.3431372549019608\n",
      "FNR on training set = 0.07303370786516854\n"
     ]
    }
   ],
   "source": [
    "TPR, FPR, FNR = calculateTPRate(conf_matrix_train)\n",
    "print('TPR on training set = {0}\\nFPR on training set = {1}\\nFNR on training set = {2}'\n",
    "      .format(TPR, FPR, FNR))"
   ]
  },
  {
   "cell_type": "code",
   "execution_count": 27,
   "metadata": {},
   "outputs": [
    {
     "name": "stdout",
     "output_type": "stream",
     "text": [
      "              precision    recall  f1-score   support\n",
      "\n",
      "           0       0.82      0.93      0.87       178\n",
      "           1       0.84      0.66      0.74       102\n",
      "\n",
      "   micro avg       0.83      0.83      0.83       280\n",
      "   macro avg       0.83      0.79      0.80       280\n",
      "weighted avg       0.83      0.83      0.82       280\n",
      "\n"
     ]
    }
   ],
   "source": [
    "## use classification report from sklearn to calculate precision, recall, f1 score...\n",
    "print(classification_report(Y_train, Y_predict_train))"
   ]
  },
  {
   "cell_type": "code",
   "execution_count": 28,
   "metadata": {},
   "outputs": [
    {
     "name": "stdout",
     "output_type": "stream",
     "text": [
      "Precision on training set = 0.83125\n",
      "Recall on training set = 0.7919145186164354\n",
      "F1 Score on training set = 0.8046398046398047\n"
     ]
    }
   ],
   "source": [
    "### this results are same with macro avg 0.83 0.79 0.8\n",
    "(precision_train, recall_train, fscore_train, _) = precision_recall_fscore_support(Y_train, Y_predict_train, average='macro')\n",
    "\n",
    "print('Precision on training set = {0}\\nRecall on training set = {1}\\nF1 Score on training set = {2}'\n",
    "      .format(precision_train, recall_train, fscore_train))"
   ]
  },
  {
   "cell_type": "markdown",
   "metadata": {},
   "source": [
    "### FROM THE RESULTS ON TRAINING SET AND TEST SET: AUC ON TEST SET > AUC ON TRAINING SET"
   ]
  },
  {
   "cell_type": "markdown",
   "metadata": {
    "colab_type": "text",
    "id": "23MFa5czBGiA"
   },
   "source": [
    "## e) Visualize the feature values and labels of the training set using a scatter plot. Visualize the feature values and decisions on another scatter plot."
   ]
  },
  {
   "cell_type": "markdown",
   "metadata": {},
   "source": [
    "### Visualize training set with scatter plot"
   ]
  },
  {
   "cell_type": "code",
   "execution_count": 29,
   "metadata": {},
   "outputs": [],
   "source": [
    "w = model.coef_[0]\n",
    "b = model.intercept_[0]"
   ]
  },
  {
   "cell_type": "code",
   "execution_count": 30,
   "metadata": {},
   "outputs": [],
   "source": [
    "Y_train = pd.DataFrame(Y_train)\n",
    "Y_train.columns = ['RegularRider']"
   ]
  },
  {
   "cell_type": "code",
   "execution_count": 31,
   "metadata": {
    "colab": {},
    "colab_type": "code",
    "id": "y-25_4_EBGiA",
    "outputId": "58ccd188-aaf6-4401-e264-5410dbc68836"
   },
   "outputs": [],
   "source": [
    "df_train = pd.DataFrame(X_train_scale)\n",
    "df_train.columns = ['Age', 'AnnualSalary']\n",
    "df_train = pd.concat([df_train, Y_train], axis = 1)"
   ]
  },
  {
   "cell_type": "code",
   "execution_count": 32,
   "metadata": {
    "colab": {},
    "colab_type": "code",
    "id": "cIuE7MlcBGiH",
    "outputId": "d876be43-1287-42b4-b20e-7bac391a0c5c"
   },
   "outputs": [
    {
     "data": {
      "image/png": "[encoded data removed]",
      "text/plain": [
       "<Figure size 360x360 with 1 Axes>"
      ]
     },
     "metadata": {
      "needs_background": "light"
     },
     "output_type": "display_data"
    }
   ],
   "source": [
    "%matplotlib inline\n",
    "import matplotlib.pyplot as plt\n",
    "import seaborn as sns\n",
    "\n",
    "sns.lmplot( x=\"Age\", y=\"AnnualSalary\", data= df_train, fit_reg=False, hue='RegularRider', legend=False)\n",
    "plt.legend(loc='upper left')\n",
    "# plot fit line training set\n",
    "a = -w[0] / w[1]\n",
    "xx = np.linspace(-2, 2)\n",
    "yy = a * xx - b / w[1]\n",
    "\n",
    "plt.plot(xx, yy, 'k-')\n",
    "plt.show()"
   ]
  },
  {
   "cell_type": "markdown",
   "metadata": {
    "colab": {},
    "colab_type": "code",
    "id": "2zDkrdV0BGiM"
   },
   "source": [
    "### Visualize the feature values and decisions on another scatter plot"
   ]
  },
  {
   "cell_type": "code",
   "execution_count": 33,
   "metadata": {},
   "outputs": [],
   "source": [
    "predicted = pd.DataFrame(Y_predict_train)\n",
    "predicted.columns = ['RegularRider']"
   ]
  },
  {
   "cell_type": "code",
   "execution_count": 34,
   "metadata": {},
   "outputs": [],
   "source": [
    "df_predicted_train = pd.DataFrame(X_train_scale)\n",
    "df_predicted_train.columns = ['Age', 'AnnualSalary']\n",
    "df_predicted_train = pd.concat([df_predicted_train, predicted], axis = 1)"
   ]
  },
  {
   "cell_type": "code",
   "execution_count": 35,
   "metadata": {},
   "outputs": [
    {
     "data": {
      "image/png": "[encoded data removed]",
      "text/plain": [
       "<Figure size 360x360 with 1 Axes>"
      ]
     },
     "metadata": {
      "needs_background": "light"
     },
     "output_type": "display_data"
    }
   ],
   "source": [
    "sns.lmplot( x=\"Age\", y=\"AnnualSalary\", data= df_predicted_train, fit_reg=False, hue='RegularRider', legend=False)\n",
    "## plot fit line after make decisions\n",
    "plt.legend(loc='upper left')\n",
    "plt.plot(xx, yy, 'k-')\n",
    "plt.show()"
   ]
  },
  {
   "cell_type": "code",
   "execution_count": null,
   "metadata": {},
   "outputs": [],
   "source": []
  }
 ],
 "metadata": {
  "colab": {
   "collapsed_sections": [],
   "include_colab_link": true,
   "name": "Copy of Untitled.ipynb",
   "provenance": [],
   "version": "0.3.2"
  },
  "kernelspec": {
   "display_name": "Python 3",
   "language": "python",
   "name": "python3"
  },
  "language_info": {
   "codemirror_mode": {
    "name": "ipython",
    "version": 3
   },
   "file_extension": ".py",
   "mimetype": "text/x-python",
   "name": "python",
   "nbconvert_exporter": "python",
   "pygments_lexer": "ipython3",
   "version": "3.7.0"
  }
 },
 "nbformat": 4,
 "nbformat_minor": 1
}
